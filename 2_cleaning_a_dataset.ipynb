{
  "cells": [
    {
      "cell_type": "markdown",
      "metadata": {
        "id": "view-in-github",
        "colab_type": "text"
      },
      "source": [
        "<a href=\"https://colab.research.google.com/github/alvcastr1234/eccdum_assignments/blob/main/2_cleaning_a_dataset.ipynb\" target=\"_parent\"><img src=\"https://colab.research.google.com/assets/colab-badge.svg\" alt=\"Open In Colab\"/></a>"
      ]
    },
    {
      "cell_type": "markdown",
      "metadata": {
        "id": "u2kiCnAWvBKV"
      },
      "source": [
        "[![Open In Colab](https://colab.research.google.com/assets/colab-badge.svg)](https://colab.research.google.com/github/ECCDUM/eccdum_assignments/blob/main/Cleaning-a-dataset.ipynb)"
      ]
    },
    {
      "cell_type": "markdown",
      "metadata": {
        "id": "NZ0YD2YavBKW"
      },
      "source": [
        "# Objective\n",
        "\n",
        "The objective of this notebook is get hands-on experience on cleaning a \"dirty\" dataset.\n",
        "Often, datasets are created from \"free-text\" fields. In free-text fields, data validation is not enforced and as a result, many conventions co-exist within the same column of data.\n",
        "Dirty data can also ocurr when collection information from different sources. If these sources use different conventions to represent such data, additional efforts are required to homogenize it at a later stage."
      ]
    },
    {
      "cell_type": "markdown",
      "metadata": {
        "id": "YuwTfM-zvBKW"
      },
      "source": [
        "## Setup"
      ]
    },
    {
      "cell_type": "code",
      "execution_count": null,
      "metadata": {
        "vscode": {
          "languageId": "plaintext"
        },
        "id": "afQvLQfEvBKW"
      },
      "outputs": [],
      "source": [
        "!pip install -q eccd_datasets"
      ]
    },
    {
      "cell_type": "code",
      "execution_count": null,
      "metadata": {
        "vscode": {
          "languageId": "plaintext"
        },
        "id": "25U78YL6vBKW"
      },
      "outputs": [],
      "source": [
        "import pandas as pd\n",
        "import numpy as np\n",
        "from eccd_datasets import load_lingerie"
      ]
    },
    {
      "cell_type": "code",
      "execution_count": null,
      "metadata": {
        "vscode": {
          "languageId": "plaintext"
        },
        "id": "ouVeMU7VvBKW"
      },
      "outputs": [],
      "source": [
        "datasets = load_lingerie()"
      ]
    },
    {
      "cell_type": "code",
      "execution_count": null,
      "metadata": {
        "vscode": {
          "languageId": "plaintext"
        },
        "id": "yutWBRb7vBKX"
      },
      "outputs": [],
      "source": [
        "datasets[\"ae_com\"]"
      ]
    },
    {
      "cell_type": "code",
      "execution_count": null,
      "metadata": {
        "vscode": {
          "languageId": "plaintext"
        },
        "id": "JMSv5xoYvBKX"
      },
      "outputs": [],
      "source": [
        "datasets.keys()"
      ]
    },
    {
      "cell_type": "markdown",
      "metadata": {
        "id": "LIBD8hqfvBKX"
      },
      "source": [
        "## The different datasets on their own\n"
      ]
    },
    {
      "cell_type": "code",
      "execution_count": null,
      "metadata": {
        "vscode": {
          "languageId": "plaintext"
        },
        "id": "HQOBg-zQvBKX"
      },
      "outputs": [],
      "source": [
        "datasets[\"ae_com\"].head()"
      ]
    },
    {
      "cell_type": "code",
      "execution_count": null,
      "metadata": {
        "vscode": {
          "languageId": "plaintext"
        },
        "id": "zS-1e-RkvBKX"
      },
      "outputs": [],
      "source": [
        "datasets[\"amazon_com\"].head()"
      ]
    },
    {
      "cell_type": "code",
      "execution_count": null,
      "metadata": {
        "vscode": {
          "languageId": "plaintext"
        },
        "id": "U98cEUBDvBKX"
      },
      "outputs": [],
      "source": [
        "### Joining all the datasets into one"
      ]
    },
    {
      "cell_type": "code",
      "execution_count": null,
      "metadata": {
        "vscode": {
          "languageId": "plaintext"
        },
        "id": "iGMB7EfLvBKX"
      },
      "outputs": [],
      "source": [
        "df = pd.concat(datasets.values()).reset_index()"
      ]
    },
    {
      "cell_type": "markdown",
      "metadata": {
        "id": "psfzXWQbvBKX"
      },
      "source": [
        "# Calculating statistics on the dataset"
      ]
    },
    {
      "cell_type": "markdown",
      "metadata": {
        "id": "oNjm8sJ0vBKX"
      },
      "source": [
        "## Unifying Victoria's Secret"
      ]
    },
    {
      "cell_type": "code",
      "execution_count": null,
      "metadata": {
        "vscode": {
          "languageId": "plaintext"
        },
        "id": "9V3p8iJMvBKY"
      },
      "outputs": [],
      "source": [
        "def unify_victoria_secret(df):\n",
        "    \"\"\"\n",
        "    We want that all brands that are related to Victoria's Secret\n",
        "    have `victoria's secret` as their brand instead of what they\n",
        "    currently have.\n",
        "    \"\"\"\n",
        "    df = df.copy()\n",
        "    new_string = \"victoria's secret\"\n",
        "\n",
        "    # Lista de patrones o variaciones que queremos reemplazar\n",
        "    patterns = [\n",
        "        r\"victoria'?s?\\s?secret\",  # Variaciones como \"victoria's secret\", \"victorias secret\", etc.\n",
        "        r\"victoria'?s?\\ssecrets?\"  # Variaciones en plural o sin apóstrofes\n",
        "    ]\n",
        "\n",
        "    # Reemplazamos todas las variaciones en la columna 'brand'\n",
        "    for pattern in patterns:\n",
        "        df['brand'] = df['brand'].str.lower().str.replace(pattern, new_string, regex=True)\n",
        "\n",
        "    return df\n"
      ]
    },
    {
      "cell_type": "code",
      "execution_count": null,
      "metadata": {
        "vscode": {
          "languageId": "plaintext"
        },
        "colab": {
          "base_uri": "https://localhost:8080/",
          "height": 146
        },
        "id": "Clx_K9PXvBKY",
        "outputId": "1b29694d-cc6f-4e53-8f12-c45c9bce8a3f"
      },
      "outputs": [
        {
          "output_type": "error",
          "ename": "NameError",
          "evalue": "name 'df' is not defined",
          "traceback": [
            "\u001b[0;31m---------------------------------------------------------------------------\u001b[0m",
            "\u001b[0;31mNameError\u001b[0m                                 Traceback (most recent call last)",
            "\u001b[0;32m<ipython-input-2-7aabd5d9a31e>\u001b[0m in \u001b[0;36m<cell line: 1>\u001b[0;34m()\u001b[0m\n\u001b[0;32m----> 1\u001b[0;31m \u001b[0mdf_unified\u001b[0m \u001b[0;34m=\u001b[0m \u001b[0munify_victoria_secret\u001b[0m\u001b[0;34m(\u001b[0m\u001b[0mdf\u001b[0m\u001b[0;34m)\u001b[0m\u001b[0;34m\u001b[0m\u001b[0;34m\u001b[0m\u001b[0m\n\u001b[0m",
            "\u001b[0;31mNameError\u001b[0m: name 'df' is not defined"
          ]
        }
      ],
      "source": [
        "df_unified = unify_victoria_secret(df)"
      ]
    },
    {
      "cell_type": "code",
      "execution_count": null,
      "metadata": {
        "vscode": {
          "languageId": "plaintext"
        },
        "id": "lf59XXTxvBKY"
      },
      "outputs": [],
      "source": [
        "answer_victoria_secret = df_unified[df_unified[\"brand_name\"] == \"victoria's secret\"].shape[0]\n",
        "print(answer_victoria_secret)"
      ]
    },
    {
      "cell_type": "markdown",
      "metadata": {
        "id": "SfoJ_7OAvBKY"
      },
      "source": [
        "## Cleaning up the price\n",
        "\n",
        "In this sectino we are going to transform the `price` column into a float column in USD dolars.\n",
        "\n",
        "For this, be careful of the different formats in the data.\n",
        "\n",
        "For simplicity, you might assume that all the prices are in USD dolars, regarding of the symbol of the currency used."
      ]
    },
    {
      "cell_type": "code",
      "execution_count": null,
      "metadata": {
        "vscode": {
          "languageId": "plaintext"
        },
        "id": "24mt1ygnvBKY"
      },
      "outputs": [],
      "source": [
        "def clean_price(df):\n",
        "    \"\"\"\n",
        "    In this function we will transform the\n",
        "    `price` column into a column of floats.\n",
        "    In case a product has more than one price,\n",
        "    return the lowest one.\n",
        "    \"\"\"\n",
        "\n",
        "    # Write your code here\n",
        "\n"
      ]
    },
    {
      "cell_type": "code",
      "execution_count": null,
      "metadata": {
        "vscode": {
          "languageId": "plaintext"
        },
        "id": "P-TimbBqvBKY"
      },
      "outputs": [],
      "source": [
        "df_clean = clean_price(df_unified)"
      ]
    },
    {
      "cell_type": "code",
      "execution_count": null,
      "metadata": {
        "vscode": {
          "languageId": "plaintext"
        },
        "id": "FK444xTyvBKY"
      },
      "outputs": [],
      "source": [
        "answer_unified_price_sum = df_clean[\"price\"].sum()\n",
        "print(answer_unified_price_sum)"
      ]
    },
    {
      "cell_type": "code",
      "execution_count": null,
      "metadata": {
        "vscode": {
          "languageId": "plaintext"
        },
        "id": "dx_uSawrvBKY"
      },
      "outputs": [],
      "source": [
        "def low_high_product_mean(df):\n",
        "    \"\"\"\n",
        "    Finally, we will calculate `product_category` with the lowest and highest mean price\n",
        "    for the brand Victoria's Secret.\n",
        "    \"\"\"\n",
        "\n",
        "    # Write your code here"
      ]
    },
    {
      "cell_type": "code",
      "execution_count": null,
      "metadata": {
        "vscode": {
          "languageId": "plaintext"
        },
        "id": "6K24K8S8vBKY"
      },
      "outputs": [],
      "source": [
        "lowest_mean, highest_mean = low_high_product_mean(df_clean)\n",
        "assert np.allclose(lowest_mean, 3.6203030303030)\n",
        "print(\"highest_mean\", highest_mean)"
      ]
    }
  ],
  "metadata": {
    "language_info": {
      "name": "python"
    },
    "colab": {
      "provenance": [],
      "include_colab_link": true
    },
    "kernelspec": {
      "name": "python3",
      "display_name": "Python 3"
    }
  },
  "nbformat": 4,
  "nbformat_minor": 0
}